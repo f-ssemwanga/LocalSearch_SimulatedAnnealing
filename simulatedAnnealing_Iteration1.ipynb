{
 "cells": [
  {
   "cell_type": "code",
   "execution_count": 4,
   "metadata": {},
   "outputs": [
    {
     "name": "stdout",
     "output_type": "stream",
     "text": [
      "    weights  values\n",
      "0        21      96\n",
      "1        12      99\n",
      "2        30      52\n",
      "3        24     100\n",
      "4        45      46\n",
      "..      ...     ...\n",
      "95       47      93\n",
      "96       28       6\n",
      "97       24      53\n",
      "98       25      12\n",
      "99       16      39\n",
      "\n",
      "[100 rows x 2 columns]\n",
      "[(21.0, 96.0), (12.0, 99.0), (30.0, 52.0), (24.0, 100.0), (45.0, 46.0), (47.0, 43.0), (41.0, 22.0), (36.0, 20.0), (38.0, 84.0), (45.0, 73.0), (4.0, 53.0), (17.0, 83.0), (1.0, 52.0), (42.0, 56.0), (26.0, 22.0), (19.0, 59.0), (12.0, 15.0), (27.0, 6.0), (15.0, 69.0), (4.0, 61.0), (5.0, 22.0), (4.0, 41.0), (21.0, 63.0), (7.0, 56.0), (23.0, 13.0), (45.0, 17.0), (18.0, 1.0), (7.0, 42.0), (29.0, 49.0), (44.0, 16.0), (18.0, 67.0), (3.0, 2.0), (8.0, 12.0), (4.0, 96.0), (38.0, 98.0), (23.0, 4.0), (34.0, 50.0), (35.0, 87.0), (29.0, 25.0), (32.0, 84.0), (44.0, 82.0), (34.0, 63.0), (44.0, 1.0), (24.0, 38.0), (8.0, 91.0), (4.0, 69.0), (36.0, 38.0), (16.0, 64.0), (34.0, 25.0), (33.0, 58.0), (27.0, 99.0), (36.0, 85.0), (26.0, 29.0), (25.0, 69.0), (25.0, 36.0), (47.0, 99.0), (20.0, 9.0), (6.0, 26.0), (13.0, 82.0), (35.0, 9.0), (42.0, 54.0), (49.0, 81.0), (11.0, 74.0), (39.0, 15.0), (30.0, 44.0), (21.0, 36.0), (26.0, 48.0), (25.0, 59.0), (33.0, 15.0), (38.0, 91.0), (16.0, 65.0), (5.0, 17.0), (42.0, 57.0), (20.0, 94.0), (39.0, 79.0), (9.0, 69.0), (6.0, 47.0), (46.0, 27.0), (44.0, 57.0), (50.0, 25.0), (44.0, 32.0), (2.0, 92.0), (28.0, 89.0), (50.0, 80.0), (26.0, 93.0), (44.0, 18.0), (4.0, 52.0), (50.0, 63.0), (47.0, 92.0), (29.0, 67.0), (22.0, 39.0), (17.0, 75.0), (37.0, 82.0), (1.0, 61.0), (19.0, 9.0), (47.0, 93.0), (28.0, 6.0), (24.0, 53.0), (25.0, 12.0), (16.0, 39.0)]\n"
     ]
    }
   ],
   "source": [
    "# import required modules\n",
    "import csv\n",
    "import random\n",
    "import math\n",
    "import matplotlib.pyplot as plt\n",
    "import pandas as pd\n",
    "\n",
    "# read the data from csv data file\n",
    "def read_data(filename):\n",
    "    #perform a visual check on the data\n",
    "    data = pd.read_csv(filename)\n",
    "    print(data)\n",
    "    with open(filename, 'r') as file:\n",
    "        reader =csv.reader(file)\n",
    "        next(reader) #skip the first row of headings\n",
    "        data = list(reader)\n",
    "    return [(float(row[0]), float(row[1])) for row in data]\n",
    "\n",
    "print(read_data('knapsack.csv'))"
   ]
  },
  {
   "cell_type": "code",
   "execution_count": null,
   "metadata": {},
   "outputs": [],
   "source": []
  }
 ],
 "metadata": {
  "kernelspec": {
   "display_name": "Python 3",
   "language": "python",
   "name": "python3"
  },
  "language_info": {
   "codemirror_mode": {
    "name": "ipython",
    "version": 3
   },
   "file_extension": ".py",
   "mimetype": "text/x-python",
   "name": "python",
   "nbconvert_exporter": "python",
   "pygments_lexer": "ipython3",
   "version": "3.11.1"
  },
  "orig_nbformat": 4
 },
 "nbformat": 4,
 "nbformat_minor": 2
}
