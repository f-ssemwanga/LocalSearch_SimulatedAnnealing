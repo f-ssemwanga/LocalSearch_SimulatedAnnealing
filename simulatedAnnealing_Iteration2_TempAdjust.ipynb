{
 "cells": [
  {
   "cell_type": "code",
   "execution_count": 1,
   "metadata": {},
   "outputs": [
    {
     "name": "stdout",
     "output_type": "stream",
     "text": [
      "    weights  values\n",
      "0        21      96\n",
      "1        12      99\n",
      "2        30      52\n",
      "3        24     100\n",
      "4        45      46\n",
      "..      ...     ...\n",
      "95       47      93\n",
      "96       28       6\n",
      "97       24      53\n",
      "98       25      12\n",
      "99       16      39\n",
      "\n",
      "[100 rows x 2 columns]\n",
      "[(21.0, 96.0), (12.0, 99.0), (30.0, 52.0), (24.0, 100.0), (45.0, 46.0), (47.0, 43.0), (41.0, 22.0), (36.0, 20.0), (38.0, 84.0), (45.0, 73.0), (4.0, 53.0), (17.0, 83.0), (1.0, 52.0), (42.0, 56.0), (26.0, 22.0), (19.0, 59.0), (12.0, 15.0), (27.0, 6.0), (15.0, 69.0), (4.0, 61.0), (5.0, 22.0), (4.0, 41.0), (21.0, 63.0), (7.0, 56.0), (23.0, 13.0), (45.0, 17.0), (18.0, 1.0), (7.0, 42.0), (29.0, 49.0), (44.0, 16.0), (18.0, 67.0), (3.0, 2.0), (8.0, 12.0), (4.0, 96.0), (38.0, 98.0), (23.0, 4.0), (34.0, 50.0), (35.0, 87.0), (29.0, 25.0), (32.0, 84.0), (44.0, 82.0), (34.0, 63.0), (44.0, 1.0), (24.0, 38.0), (8.0, 91.0), (4.0, 69.0), (36.0, 38.0), (16.0, 64.0), (34.0, 25.0), (33.0, 58.0), (27.0, 99.0), (36.0, 85.0), (26.0, 29.0), (25.0, 69.0), (25.0, 36.0), (47.0, 99.0), (20.0, 9.0), (6.0, 26.0), (13.0, 82.0), (35.0, 9.0), (42.0, 54.0), (49.0, 81.0), (11.0, 74.0), (39.0, 15.0), (30.0, 44.0), (21.0, 36.0), (26.0, 48.0), (25.0, 59.0), (33.0, 15.0), (38.0, 91.0), (16.0, 65.0), (5.0, 17.0), (42.0, 57.0), (20.0, 94.0), (39.0, 79.0), (9.0, 69.0), (6.0, 47.0), (46.0, 27.0), (44.0, 57.0), (50.0, 25.0), (44.0, 32.0), (2.0, 92.0), (28.0, 89.0), (50.0, 80.0), (26.0, 93.0), (44.0, 18.0), (4.0, 52.0), (50.0, 63.0), (47.0, 92.0), (29.0, 67.0), (22.0, 39.0), (17.0, 75.0), (37.0, 82.0), (1.0, 61.0), (19.0, 9.0), (47.0, 93.0), (28.0, 6.0), (24.0, 53.0), (25.0, 12.0), (16.0, 39.0)]\n"
     ]
    }
   ],
   "source": [
    "# import required modules\n",
    "import csv\n",
    "import random\n",
    "import math\n",
    "import matplotlib.pyplot as plt\n",
    "import pandas as pd\n",
    "\n",
    "# read the data from csv data file\n",
    "def read_data(filename):\n",
    "    #perform a visual check on the data\n",
    "    data = pd.read_csv(filename)\n",
    "    print(data)\n",
    "    with open(filename, 'r') as file:\n",
    "        reader =csv.reader(file)\n",
    "        next(reader) #skip the first row of headings\n",
    "        data = list(reader)\n",
    "    return [(float(row[0]), float(row[1])) for row in data]\n",
    "\n",
    "print(read_data('knapsack.csv'))"
   ]
  },
  {
   "cell_type": "code",
   "execution_count": 2,
   "metadata": {},
   "outputs": [],
   "source": [
    "#calculate the straight line distance between points using pythagoras\n",
    "def strainghtLine_distance(point1, point2):\n",
    "    x1, y1 = point1\n",
    "    x2, y2 = point2\n",
    "    return ((x2 - x1) ** 2 + (y2 - y1) ** 2) ** 0.5 "
   ]
  },
  {
   "cell_type": "code",
   "execution_count": 3,
   "metadata": {},
   "outputs": [],
   "source": [
    "#calculate total distance of a given order of points\n",
    "def total_distance(points, order):\n",
    "    total = 0\n",
    "    for i in range(len(order) - 1):\n",
    "        point1 = points[order[i]]\n",
    "        point2 = points[order[i + 1]]\n",
    "        total += strainghtLine_distance(point1, point2)\n",
    "    return total"
   ]
  },
  {
   "cell_type": "code",
   "execution_count": 4,
   "metadata": {},
   "outputs": [],
   "source": [
    "# Calculate the acceptance probability based on the temperature and the difference in distances\n",
    "def acceptance_probability(current_distance, new_distance, temperature):\n",
    "    if new_distance < current_distance:\n",
    "        return 1.0\n",
    "    return math.exp((current_distance - new_distance) / temperature)"
   ]
  },
  {
   "cell_type": "code",
   "execution_count": 5,
   "metadata": {},
   "outputs": [],
   "source": [
    "#Perform Simulated Annealing\n",
    "def simulated_annealing_tsp(points, initial_order, temperature, cooling_rate):\n",
    "    current_order = initial_order[:]\n",
    "    best_order = current_order[:]\n",
    "    best_distance = total_distance(points, current_order)\n",
    "\n",
    "    while temperature > 0.1:\n",
    "        # Generate a neighboring solution by swapping two points\n",
    "        neighbor = current_order[:]\n",
    "        index1 = random.randint(0, len(points) - 1)\n",
    "        index2 = random.randint(0, len(points) - 1)\n",
    "        neighbor[index1], neighbor[index2] = neighbor[index2], neighbor[index1]\n",
    "\n",
    "        current_distance = total_distance(points, current_order)\n",
    "        neighbor_distance = total_distance(points, neighbor)\n",
    "\n",
    "        # Accept the neighboring solution if it improves the distance or by a probability\n",
    "        if neighbor_distance < current_distance or random.random() < acceptance_probability(current_distance, neighbor_distance, temperature):\n",
    "            current_order = neighbor[:]\n",
    "\n",
    "        # Update the best solution if necessary\n",
    "        if neighbor_distance < best_distance:\n",
    "            best_order = neighbor[:]\n",
    "            best_distance = neighbor_distance\n",
    "\n",
    "        # Cool down the temperature\n",
    "        temperature *= cooling_rate\n",
    "\n",
    "    return best_order"
   ]
  },
  {
   "cell_type": "code",
   "execution_count": 6,
   "metadata": {},
   "outputs": [],
   "source": [
    "# Run the algorithm multiple times and return the best orders\n",
    "def run_algorithm(points, num_runs, initial_temperature, cooling_rate):\n",
    "    best_orders = []\n",
    "    for _ in range(num_runs):\n",
    "        initial_order = list(range(len(points)))\n",
    "        random.shuffle(initial_order)\n",
    "        best_order = simulated_annealing_tsp(points, initial_order, initial_temperature, cooling_rate)\n",
    "        best_orders.append(best_order)\n",
    "    return best_orders"
   ]
  },
  {
   "cell_type": "code",
   "execution_count": 7,
   "metadata": {},
   "outputs": [],
   "source": [
    "#Visualise results\n",
    "def plot_tsp(points, order):\n",
    "    x = [point[0] for point in points]\n",
    "    y = [point[1] for point in points]\n",
    "    plt.plot(x, y, 'bo')\n",
    "    # for i in range(len(order) - 1):\n",
    "    #     start = order[i]\n",
    "    #     end = order[i + 1]\n",
    "    #     plt.plot([points[start][0], points[end][0]], [points[start][1], points[end][1]], 'r-')\n",
    "    # plt.plot([points[order[-1]][0], points[order[0]][0]], [points[order[-1]][1], points[order[0]][1]], 'r-')"
   ]
  },
  {
   "cell_type": "code",
   "execution_count": 10,
   "metadata": {},
   "outputs": [
    {
     "name": "stdout",
     "output_type": "stream",
     "text": [
      "    weights  values\n",
      "0        21      96\n",
      "1        12      99\n",
      "2        30      52\n",
      "3        24     100\n",
      "4        45      46\n",
      "..      ...     ...\n",
      "95       47      93\n",
      "96       28       6\n",
      "97       24      53\n",
      "98       25      12\n",
      "99       16      39\n",
      "\n",
      "[100 rows x 2 columns]\n",
      "Run 1: Distance = 3566.3259247364786\n",
      "Run 2: Distance = 3562.476790727013\n",
      "Run 3: Distance = 3701.4187946996626\n",
      "Run 4: Distance = 3683.6589255870867\n",
      "Run 5: Distance = 3230.510312064341\n",
      "Run 6: Distance = 3440.2926312146983\n",
      "Run 7: Distance = 3521.887144710634\n",
      "Run 8: Distance = 3452.1313466973675\n",
      "Run 9: Distance = 3261.309107402303\n",
      "Run 10: Distance = 3603.926456245449\n"
     ]
    },
    {
     "data": {
      "image/png": "[encoded data removed]",
      "text/plain": [
       "<Figure size 640x480 with 1 Axes>"
      ]
     },
     "metadata": {},
     "output_type": "display_data"
    }
   ],
   "source": [
    "if __name__ == '__main__':\n",
    "    # Define the input filename, number of runs, initial temperature, and cooling rate\n",
    "    filename = 'knapsack.csv'\n",
    "    num_runs = 10\n",
    "    initial_temperature = 200.0\n",
    "    cooling_rate = 0.85\n",
    "\n",
    "    # Read the data from the file\n",
    "    points = read_data(filename)\n",
    "\n",
    "    # Run the algorithm and get the best orders\n",
    "    best_orders = run_algorithm(points, num_runs, initial_temperature, cooling_rate)\n",
    "\n",
    "    # Print the results for each run\n",
    "    for i, order in enumerate(best_orders):\n",
    "        distance = total_distance(points, order)\n",
    "        print(f'Run {i + 1}: Distance = {distance}')\n",
    "\n",
    "    # Plot the best TSP solution\n",
    "    best_order = best_orders[0]  # Assume the first order is the best\n",
    "    plot_tsp(points, best_order)\n",
    "    plt.xlabel('X - Values')\n",
    "    plt.ylabel('Y - Weights')\n",
    "    plt.title('TSP Solution')\n",
    "    plt.show()"
   ]
  }
 ],
 "metadata": {
  "kernelspec": {
   "display_name": "Python 3",
   "language": "python",
   "name": "python3"
  },
  "language_info": {
   "codemirror_mode": {
    "name": "ipython",
    "version": 3
   },
   "file_extension": ".py",
   "mimetype": "text/x-python",
   "name": "python",
   "nbconvert_exporter": "python",
   "pygments_lexer": "ipython3",
   "version": "3.11.1"
  },
  "orig_nbformat": 4
 },
 "nbformat": 4,
 "nbformat_minor": 2
}
